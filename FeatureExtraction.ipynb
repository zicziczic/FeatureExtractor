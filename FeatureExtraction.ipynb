{
 "cells": [
  {
   "cell_type": "code",
   "execution_count": 27,
   "id": "0596a33a-c240-4f9a-ae77-cbe031a76d69",
   "metadata": {},
   "outputs": [],
   "source": [
    "import torch\n",
    "from transformers import ViTModel, ViTImageProcessor, AutoModel, ViTImageProcessor\n",
    "from PIL import Image\n",
    "import os\n",
    "from tqdm import tqdm\n",
    "import pandas as pd\n",
    "import numpy"
   ]
  },
  {
   "cell_type": "code",
   "execution_count": 28,
   "id": "9f7ecce3-717d-4541-b3c0-2e8b7ac83ad9",
   "metadata": {},
   "outputs": [],
   "source": [
    "def load_models(modelo):\n",
    "\n",
    "    if modelo == 'ViT_huge':\n",
    "        vit_huge_model = ViTModel.from_pretrained('google/vit-huge-patch14-224-in21k')\n",
    "        vit_huge_feature_extractor = ViTImageProcessor.from_pretrained('google/vit-huge-patch14-224-in21k')\n",
    "        vit_huge_model.eval()\n",
    "\n",
    "        return vit_huge_model, vit_huge_feature_extractor\n",
    "\n",
    "    if modelo == 'ViT_large':\n",
    "        vit_large_model = ViTModel.from_pretrained('google/vit-large-patch16-224-in21k')\n",
    "        vit_large_feature_extractor = ViTImageProcessor.from_pretrained('google/vit-large-patch16-224-in21k')\n",
    "        vit_large_model.eval()\n",
    "\n",
    "        return vit_large_model, vit_large_feature_extractor\n",
    "    \n",
    "    if modelo == 'ViT_base':\n",
    "        vit_base_model = ViTModel.from_pretrained('google/vit-base-patch16-224-in21k')\n",
    "        vit_base_feature_extractor = ViTImageProcessor.from_pretrained('google/vit-base-patch16-224-in21k')\n",
    "        vit_base_model.eval()\n",
    "    \n",
    "        return vit_base_model, vit_base_feature_extractor\n",
    "\n",
    "    if modelo == 'ViT_small':\n",
    "        vit_small_model = AutoModel.from_pretrained('WinKawaks/vit-small-patch16-224')\n",
    "        vit_small_feature_extractor = ViTImageProcessor.from_pretrained('WinKawaks/vit-small-patch16-224')\n",
    "        vit_small_model.eval()\n",
    "\n",
    "        return vit_small_model, vit_small_feature_extractor\n",
    "\n",
    "    return \n"
   ]
  },
  {
   "cell_type": "code",
   "execution_count": 33,
   "id": "0ee20eb3-7760-4613-96d0-bd71599ceb32",
   "metadata": {},
   "outputs": [],
   "source": [
    "def feature_extraction(image_path, modelo, feature_extractor):\n",
    "    image = Image.open(image_path).convert('RGB')\n",
    "    inputs = feature_extractor(images=image, return_tensors=\"pt\")\n",
    "\n",
    "    with torch.no_grad():\n",
    "        outputs = modelo(**inputs)\n",
    "    \n",
    "    last_hidden_state = outputs.last_hidden_state\n",
    "\n",
    "    features = last_hidden_state.mean(dim=1).squeeze().numpy()\n",
    "    \n",
    "    return features"
   ]
  },
  {
   "cell_type": "code",
   "execution_count": 40,
   "id": "70901cee-bbd1-47cf-87d1-1d4cdb0ae9de",
   "metadata": {},
   "outputs": [],
   "source": [
    "def features_to_df(folder_path, modelo, feature_extractor):\n",
    "    data = []\n",
    "    \n",
    "    for subfolder in tqdm(os.listdir(folder_path)):\n",
    "        subfolder_path = os.path.join(folder_path, subfolder)\n",
    "    \n",
    "        if os.path.isdir(subfolder_path):\n",
    "            for image_file in os.listdir(subfolder_path):\n",
    "                image_path = os.path.join(subfolder_path, image_file)\n",
    "                \n",
    "                if image_file.lower().endswith(('png', 'jpg', 'jpeg')):\n",
    "                    features = feature_extraction(image_path, modelo, feature_extractor)\n",
    "                        \n",
    "                    data.append([image_path, *features])\n",
    "\n",
    "    columns = ['image_path'] + [f'feature_{i}' for i in range(len(features))]\n",
    "    df = pd.DataFrame(data, columns=columns)\n",
    "    return df\n",
    "\n",
    "    "
   ]
  },
  {
   "cell_type": "code",
   "execution_count": 45,
   "id": "5d1334bc-3380-4617-b099-c5a27fa50198",
   "metadata": {},
   "outputs": [],
   "source": [
    "def save_dataframe_to_csv(df, caminho, modelo):\n",
    "    path = os.path.join(caminho)\n",
    "    df.to_csv(path+'/'+f'Features_{modelo}'+'.csv', index=False)\n",
    "    print(f\"Arquivos do {modelo} salvo em: {path}\")"
   ]
  },
  {
   "cell_type": "code",
   "execution_count": null,
   "id": "252be537-a679-49d9-a83b-483a5cf6bfe9",
   "metadata": {},
   "outputs": [],
   "source": [
    "modelo\n",
    "caminho_absoluto_fonte\n",
    "caminho_absoluto_salvar"
   ]
  },
  {
   "cell_type": "code",
   "execution_count": 41,
   "id": "79279662-cb86-414d-8dc6-e52188958181",
   "metadata": {},
   "outputs": [
    {
     "name": "stderr",
     "output_type": "stream",
     "text": [
      "Some weights of ViTModel were not initialized from the model checkpoint at WinKawaks/vit-small-patch16-224 and are newly initialized: ['vit.pooler.dense.bias', 'vit.pooler.dense.weight']\n",
      "You should probably TRAIN this model on a down-stream task to be able to use it for predictions and inference.\n"
     ]
    }
   ],
   "source": [
    "model, fe = load_models(modelo)"
   ]
  },
  {
   "cell_type": "code",
   "execution_count": 42,
   "id": "4b34423a-c6b0-4928-aed2-96b48fae6d85",
   "metadata": {},
   "outputs": [
    {
     "name": "stderr",
     "output_type": "stream",
     "text": [
      "  0%|                                                     | 0/5 [00:06<?, ?it/s]\n",
      "\n",
      "KeyboardInterrupt\n",
      "\n"
     ]
    }
   ],
   "source": [
    "df = features_to_df(caminho_absoluto, model, fe)"
   ]
  },
  {
   "cell_type": "code",
   "execution_count": 49,
   "id": "586e4dea-dbfd-4252-8705-21aa7e8e7f95",
   "metadata": {},
   "outputs": [
    {
     "name": "stdout",
     "output_type": "stream",
     "text": [
      "Arquivos do ViT_small salvo em: ./features_ViT_small\n"
     ]
    }
   ],
   "source": [
    "save_dataframe_to_csv(df, caminho_absoluto_salvar, nome_arquivo_salvar, modelo)"
   ]
  },
  {
   "cell_type": "code",
   "execution_count": null,
   "id": "60c75fd5-6788-4674-908a-d27f409d7cb1",
   "metadata": {},
   "outputs": [],
   "source": []
  }
 ],
 "metadata": {
  "kernelspec": {
   "display_name": "env2",
   "language": "python",
   "name": "env2"
  },
  "language_info": {
   "codemirror_mode": {
    "name": "ipython",
    "version": 3
   },
   "file_extension": ".py",
   "mimetype": "text/x-python",
   "name": "python",
   "nbconvert_exporter": "python",
   "pygments_lexer": "ipython3",
   "version": "3.10.12"
  }
 },
 "nbformat": 4,
 "nbformat_minor": 5
}
